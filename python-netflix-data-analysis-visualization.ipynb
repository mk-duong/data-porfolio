{
 "cells": [
  {
   "cell_type": "markdown",
   "id": "c8cccf2d",
   "metadata": {
    "papermill": {
     "duration": 0.009332,
     "end_time": "2023-01-30T04:32:58.177493",
     "exception": false,
     "start_time": "2023-01-30T04:32:58.168161",
     "status": "completed"
    },
    "tags": []
   },
   "source": [
    "<a id='top'></a>\n",
    "<div class=\"list-group\" id=\"list-tab\" role=\"tablist\"></div>\n",
    "\n",
    "<h2 style=\"text-align: left; background-color:#b20710; font-family: Arial Black; color: #f5f5f1; padding: 13px; line-height:0.9;border-radius:2px; margin-bottom: 0em; text-align: center; font-size: 25px; border-radius: 100px 100px;\">INTRODUCTION</h2>"
   ]
  },
  {
   "cell_type": "markdown",
   "id": "0efc2608",
   "metadata": {
    "papermill": {
     "duration": 0.008366,
     "end_time": "2023-01-30T04:32:58.194580",
     "exception": false,
     "start_time": "2023-01-30T04:32:58.186214",
     "status": "completed"
    },
    "tags": []
   },
   "source": [
    "This notebook uses the Netflix Movies and TV Shows dataset to discover some insights about this streaming service through data manipulation and visualization practices."
   ]
  },
  {
   "cell_type": "code",
   "execution_count": 1,
   "id": "97707038",
   "metadata": {
    "execution": {
     "iopub.execute_input": "2023-01-30T04:32:58.213431Z",
     "iopub.status.busy": "2023-01-30T04:32:58.212821Z",
     "iopub.status.idle": "2023-01-30T04:32:59.167236Z",
     "shell.execute_reply": "2023-01-30T04:32:59.166281Z"
    },
    "papermill": {
     "duration": 0.966571,
     "end_time": "2023-01-30T04:32:59.169739",
     "exception": false,
     "start_time": "2023-01-30T04:32:58.203168",
     "status": "completed"
    },
    "tags": []
   },
   "outputs": [],
   "source": [
    "# Import packages\n",
    "import numpy as np\n",
    "import pandas as pd\n",
    "import scipy.stats as st\n",
    "import matplotlib.pyplot as plt\n",
    "import seaborn as sns\n",
    "import math"
   ]
  },
  {
   "cell_type": "markdown",
   "id": "5fc34279",
   "metadata": {
    "papermill": {
     "duration": 0.008093,
     "end_time": "2023-01-30T04:32:59.186429",
     "exception": false,
     "start_time": "2023-01-30T04:32:59.178336",
     "status": "completed"
    },
    "tags": []
   },
   "source": [
    "<a id='top'></a>\n",
    "<div class=\"list-group\" id=\"list-tab\" role=\"tablist\"></div>\n",
    "\n",
    "<h2 style=\"text-align: left; background-color:#b20710; font-family: Arial Black; color: #f5f5f1; padding: 13px; line-height:0.9;border-radius:2px; margin-bottom: 0em; text-align: center; font-size: 25px; border-radius: 100px 100px;\">DATA PREPARATION</h2>"
   ]
  },
  {
   "cell_type": "markdown",
   "id": "c9d44a7a",
   "metadata": {
    "papermill": {
     "duration": 0.008265,
     "end_time": "2023-01-30T04:32:59.203888",
     "exception": false,
     "start_time": "2023-01-30T04:32:59.195623",
     "status": "completed"
    },
    "tags": []
   },
   "source": [
    "## A glimpse at the dataframe"
   ]
  },
  {
   "cell_type": "code",
   "execution_count": 2,
   "id": "8835c3a2",
   "metadata": {
    "execution": {
     "iopub.execute_input": "2023-01-30T04:32:59.222234Z",
     "iopub.status.busy": "2023-01-30T04:32:59.221840Z",
     "iopub.status.idle": "2023-01-30T04:32:59.346112Z",
     "shell.execute_reply": "2023-01-30T04:32:59.345440Z"
    },
    "papermill": {
     "duration": 0.136045,
     "end_time": "2023-01-30T04:32:59.348357",
     "exception": false,
     "start_time": "2023-01-30T04:32:59.212312",
     "status": "completed"
    },
    "tags": []
   },
   "outputs": [
    {
     "data": {
      "text/html": [
       "<div>\n",
       "<style scoped>\n",
       "    .dataframe tbody tr th:only-of-type {\n",
       "        vertical-align: middle;\n",
       "    }\n",
       "\n",
       "    .dataframe tbody tr th {\n",
       "        vertical-align: top;\n",
       "    }\n",
       "\n",
       "    .dataframe thead th {\n",
       "        text-align: right;\n",
       "    }\n",
       "</style>\n",
       "<table border=\"1\" class=\"dataframe\">\n",
       "  <thead>\n",
       "    <tr style=\"text-align: right;\">\n",
       "      <th></th>\n",
       "      <th>show_id</th>\n",
       "      <th>type</th>\n",
       "      <th>title</th>\n",
       "      <th>director</th>\n",
       "      <th>cast</th>\n",
       "      <th>country</th>\n",
       "      <th>date_added</th>\n",
       "      <th>release_year</th>\n",
       "      <th>rating</th>\n",
       "      <th>duration</th>\n",
       "      <th>listed_in</th>\n",
       "      <th>description</th>\n",
       "    </tr>\n",
       "  </thead>\n",
       "  <tbody>\n",
       "    <tr>\n",
       "      <th>0</th>\n",
       "      <td>s1</td>\n",
       "      <td>Movie</td>\n",
       "      <td>Dick Johnson Is Dead</td>\n",
       "      <td>Kirsten Johnson</td>\n",
       "      <td>NaN</td>\n",
       "      <td>United States</td>\n",
       "      <td>September 25, 2021</td>\n",
       "      <td>2020</td>\n",
       "      <td>PG-13</td>\n",
       "      <td>90 min</td>\n",
       "      <td>Documentaries</td>\n",
       "      <td>As her father nears the end of his life, filmm...</td>\n",
       "    </tr>\n",
       "    <tr>\n",
       "      <th>1</th>\n",
       "      <td>s2</td>\n",
       "      <td>TV Show</td>\n",
       "      <td>Blood &amp; Water</td>\n",
       "      <td>NaN</td>\n",
       "      <td>Ama Qamata, Khosi Ngema, Gail Mabalane, Thaban...</td>\n",
       "      <td>South Africa</td>\n",
       "      <td>September 24, 2021</td>\n",
       "      <td>2021</td>\n",
       "      <td>TV-MA</td>\n",
       "      <td>2 Seasons</td>\n",
       "      <td>International TV Shows, TV Dramas, TV Mysteries</td>\n",
       "      <td>After crossing paths at a party, a Cape Town t...</td>\n",
       "    </tr>\n",
       "    <tr>\n",
       "      <th>2</th>\n",
       "      <td>s3</td>\n",
       "      <td>TV Show</td>\n",
       "      <td>Ganglands</td>\n",
       "      <td>Julien Leclercq</td>\n",
       "      <td>Sami Bouajila, Tracy Gotoas, Samuel Jouy, Nabi...</td>\n",
       "      <td>NaN</td>\n",
       "      <td>September 24, 2021</td>\n",
       "      <td>2021</td>\n",
       "      <td>TV-MA</td>\n",
       "      <td>1 Season</td>\n",
       "      <td>Crime TV Shows, International TV Shows, TV Act...</td>\n",
       "      <td>To protect his family from a powerful drug lor...</td>\n",
       "    </tr>\n",
       "    <tr>\n",
       "      <th>3</th>\n",
       "      <td>s4</td>\n",
       "      <td>TV Show</td>\n",
       "      <td>Jailbirds New Orleans</td>\n",
       "      <td>NaN</td>\n",
       "      <td>NaN</td>\n",
       "      <td>NaN</td>\n",
       "      <td>September 24, 2021</td>\n",
       "      <td>2021</td>\n",
       "      <td>TV-MA</td>\n",
       "      <td>1 Season</td>\n",
       "      <td>Docuseries, Reality TV</td>\n",
       "      <td>Feuds, flirtations and toilet talk go down amo...</td>\n",
       "    </tr>\n",
       "    <tr>\n",
       "      <th>4</th>\n",
       "      <td>s5</td>\n",
       "      <td>TV Show</td>\n",
       "      <td>Kota Factory</td>\n",
       "      <td>NaN</td>\n",
       "      <td>Mayur More, Jitendra Kumar, Ranjan Raj, Alam K...</td>\n",
       "      <td>India</td>\n",
       "      <td>September 24, 2021</td>\n",
       "      <td>2021</td>\n",
       "      <td>TV-MA</td>\n",
       "      <td>2 Seasons</td>\n",
       "      <td>International TV Shows, Romantic TV Shows, TV ...</td>\n",
       "      <td>In a city of coaching centers known to train I...</td>\n",
       "    </tr>\n",
       "  </tbody>\n",
       "</table>\n",
       "</div>"
      ],
      "text/plain": [
       "  show_id     type                  title         director  \\\n",
       "0      s1    Movie   Dick Johnson Is Dead  Kirsten Johnson   \n",
       "1      s2  TV Show          Blood & Water              NaN   \n",
       "2      s3  TV Show              Ganglands  Julien Leclercq   \n",
       "3      s4  TV Show  Jailbirds New Orleans              NaN   \n",
       "4      s5  TV Show           Kota Factory              NaN   \n",
       "\n",
       "                                                cast        country  \\\n",
       "0                                                NaN  United States   \n",
       "1  Ama Qamata, Khosi Ngema, Gail Mabalane, Thaban...   South Africa   \n",
       "2  Sami Bouajila, Tracy Gotoas, Samuel Jouy, Nabi...            NaN   \n",
       "3                                                NaN            NaN   \n",
       "4  Mayur More, Jitendra Kumar, Ranjan Raj, Alam K...          India   \n",
       "\n",
       "           date_added  release_year rating   duration  \\\n",
       "0  September 25, 2021          2020  PG-13     90 min   \n",
       "1  September 24, 2021          2021  TV-MA  2 Seasons   \n",
       "2  September 24, 2021          2021  TV-MA   1 Season   \n",
       "3  September 24, 2021          2021  TV-MA   1 Season   \n",
       "4  September 24, 2021          2021  TV-MA  2 Seasons   \n",
       "\n",
       "                                           listed_in  \\\n",
       "0                                      Documentaries   \n",
       "1    International TV Shows, TV Dramas, TV Mysteries   \n",
       "2  Crime TV Shows, International TV Shows, TV Act...   \n",
       "3                             Docuseries, Reality TV   \n",
       "4  International TV Shows, Romantic TV Shows, TV ...   \n",
       "\n",
       "                                         description  \n",
       "0  As her father nears the end of his life, filmm...  \n",
       "1  After crossing paths at a party, a Cape Town t...  \n",
       "2  To protect his family from a powerful drug lor...  \n",
       "3  Feuds, flirtations and toilet talk go down amo...  \n",
       "4  In a city of coaching centers known to train I...  "
      ]
     },
     "metadata": {},
     "output_type": "display_data"
    }
   ],
   "source": [
    "df = pd.read_csv(\"/kaggle/input/netflix-shows/netflix_titles.csv\")\n",
    "display(df.head())"
   ]
  },
  {
   "cell_type": "markdown",
   "id": "31a6541c",
   "metadata": {
    "papermill": {
     "duration": 0.008569,
     "end_time": "2023-01-30T04:32:59.365828",
     "exception": false,
     "start_time": "2023-01-30T04:32:59.357259",
     "status": "completed"
    },
    "tags": []
   },
   "source": [
    "## Data preprocessing\n",
    "After taking a look at the dataset, I noticed that there are missing values in columns including <code>director</code>, <code>cast</code>, and <code>country</code>. I've got a hunch the same might happen in other columns as well, so <code>.info()</code> and <code>.isna()</code> will be used to inspect this."
   ]
  },
  {
   "cell_type": "code",
   "execution_count": 3,
   "id": "d628b895",
   "metadata": {
    "execution": {
     "iopub.execute_input": "2023-01-30T04:32:59.385379Z",
     "iopub.status.busy": "2023-01-30T04:32:59.384593Z",
     "iopub.status.idle": "2023-01-30T04:32:59.420434Z",
     "shell.execute_reply": "2023-01-30T04:32:59.419033Z"
    },
    "papermill": {
     "duration": 0.048334,
     "end_time": "2023-01-30T04:32:59.422963",
     "exception": false,
     "start_time": "2023-01-30T04:32:59.374629",
     "status": "completed"
    },
    "tags": []
   },
   "outputs": [
    {
     "name": "stdout",
     "output_type": "stream",
     "text": [
      "<class 'pandas.core.frame.DataFrame'>\n",
      "RangeIndex: 8807 entries, 0 to 8806\n",
      "Data columns (total 12 columns):\n",
      " #   Column        Non-Null Count  Dtype \n",
      "---  ------        --------------  ----- \n",
      " 0   show_id       8807 non-null   object\n",
      " 1   type          8807 non-null   object\n",
      " 2   title         8807 non-null   object\n",
      " 3   director      6173 non-null   object\n",
      " 4   cast          7982 non-null   object\n",
      " 5   country       7976 non-null   object\n",
      " 6   date_added    8797 non-null   object\n",
      " 7   release_year  8807 non-null   int64 \n",
      " 8   rating        8803 non-null   object\n",
      " 9   duration      8804 non-null   object\n",
      " 10  listed_in     8807 non-null   object\n",
      " 11  description   8807 non-null   object\n",
      "dtypes: int64(1), object(11)\n",
      "memory usage: 825.8+ KB\n"
     ]
    },
    {
     "data": {
      "text/plain": [
       "show_id            0\n",
       "type               0\n",
       "title              0\n",
       "director        2634\n",
       "cast             825\n",
       "country          831\n",
       "date_added        10\n",
       "release_year       0\n",
       "rating             4\n",
       "duration           3\n",
       "listed_in          0\n",
       "description        0\n",
       "dtype: int64"
      ]
     },
     "execution_count": 3,
     "metadata": {},
     "output_type": "execute_result"
    }
   ],
   "source": [
    "df.info()\n",
    "\n",
    "df.isna().sum()"
   ]
  },
  {
   "cell_type": "markdown",
   "id": "b73d5861",
   "metadata": {
    "papermill": {
     "duration": 0.008149,
     "end_time": "2023-01-30T04:32:59.439883",
     "exception": false,
     "start_time": "2023-01-30T04:32:59.431734",
     "status": "completed"
    },
    "tags": []
   },
   "source": [
    "## Data cleaning\n",
    "\n",
    "Turns out there are quite a few missing values in <code>director</code>, <code>cast</code>, and <code>country</code>, while only some are missed in <code>date_added</code>, <code>rating</code>, and <code>duration</code>.\n",
    "\n",
    "Therefore, the string \"None\" will be replacing NaNs in <code>cast</code>, and <code>country</code>.  For <code>country</code>, I'll replace missing values with one that appears to be the most dominant Netflix market (United States). The other NaNs will be dropped for more convenient analysis process."
   ]
  },
  {
   "cell_type": "code",
   "execution_count": 4,
   "id": "d5414bde",
   "metadata": {
    "execution": {
     "iopub.execute_input": "2023-01-30T04:32:59.458545Z",
     "iopub.status.busy": "2023-01-30T04:32:59.457935Z",
     "iopub.status.idle": "2023-01-30T04:32:59.497322Z",
     "shell.execute_reply": "2023-01-30T04:32:59.496075Z"
    },
    "papermill": {
     "duration": 0.050937,
     "end_time": "2023-01-30T04:32:59.499429",
     "exception": false,
     "start_time": "2023-01-30T04:32:59.448492",
     "status": "completed"
    },
    "tags": []
   },
   "outputs": [],
   "source": [
    "# Replace NaNs\n",
    "df['country'] = df['country'].fillna(df['country'].mode()[0])\n",
    "df['director'].replace(np.nan, 'None', inplace=True)\n",
    "df['cast'].replace(np.nan, 'None', inplace=True)\n",
    "\n",
    "# Drop NaNs\n",
    "df.dropna(inplace=True)\n",
    "\n",
    "# Drop duplicates\n",
    "df.drop_duplicates(inplace=True)"
   ]
  },
  {
   "cell_type": "code",
   "execution_count": 5,
   "id": "21978808",
   "metadata": {
    "execution": {
     "iopub.execute_input": "2023-01-30T04:32:59.518380Z",
     "iopub.status.busy": "2023-01-30T04:32:59.517935Z",
     "iopub.status.idle": "2023-01-30T04:32:59.543029Z",
     "shell.execute_reply": "2023-01-30T04:32:59.541584Z"
    },
    "papermill": {
     "duration": 0.037054,
     "end_time": "2023-01-30T04:32:59.545366",
     "exception": false,
     "start_time": "2023-01-30T04:32:59.508312",
     "status": "completed"
    },
    "tags": []
   },
   "outputs": [
    {
     "name": "stdout",
     "output_type": "stream",
     "text": [
      "<class 'pandas.core.frame.DataFrame'>\n",
      "Int64Index: 8790 entries, 0 to 8806\n",
      "Data columns (total 12 columns):\n",
      " #   Column        Non-Null Count  Dtype \n",
      "---  ------        --------------  ----- \n",
      " 0   show_id       8790 non-null   object\n",
      " 1   type          8790 non-null   object\n",
      " 2   title         8790 non-null   object\n",
      " 3   director      8790 non-null   object\n",
      " 4   cast          8790 non-null   object\n",
      " 5   country       8790 non-null   object\n",
      " 6   date_added    8790 non-null   object\n",
      " 7   release_year  8790 non-null   int64 \n",
      " 8   rating        8790 non-null   object\n",
      " 9   duration      8790 non-null   object\n",
      " 10  listed_in     8790 non-null   object\n",
      " 11  description   8790 non-null   object\n",
      "dtypes: int64(1), object(11)\n",
      "memory usage: 892.7+ KB\n"
     ]
    },
    {
     "data": {
      "text/plain": [
       "show_id         0\n",
       "type            0\n",
       "title           0\n",
       "director        0\n",
       "cast            0\n",
       "country         0\n",
       "date_added      0\n",
       "release_year    0\n",
       "rating          0\n",
       "duration        0\n",
       "listed_in       0\n",
       "description     0\n",
       "dtype: int64"
      ]
     },
     "execution_count": 5,
     "metadata": {},
     "output_type": "execute_result"
    }
   ],
   "source": [
    "df.info()\n",
    "\n",
    "df.isna().sum()"
   ]
  },
  {
   "cell_type": "markdown",
   "id": "76abf2a4",
   "metadata": {
    "papermill": {
     "duration": 0.008399,
     "end_time": "2023-01-30T04:32:59.562863",
     "exception": false,
     "start_time": "2023-01-30T04:32:59.554464",
     "status": "completed"
    },
    "tags": []
   },
   "source": [
    "## Split countries and retrieve only one\n",
    "Some movies and TV shows may be available on Netflix of more than one country, but within this notebook's scope, let's only take the first country listed in the <code>country</code> column to be the main region."
   ]
  },
  {
   "cell_type": "code",
   "execution_count": 6,
   "id": "17b8ecf4",
   "metadata": {
    "execution": {
     "iopub.execute_input": "2023-01-30T04:32:59.581724Z",
     "iopub.status.busy": "2023-01-30T04:32:59.581396Z",
     "iopub.status.idle": "2023-01-30T04:32:59.590034Z",
     "shell.execute_reply": "2023-01-30T04:32:59.588912Z"
    },
    "papermill": {
     "duration": 0.020372,
     "end_time": "2023-01-30T04:32:59.592019",
     "exception": false,
     "start_time": "2023-01-30T04:32:59.571647",
     "status": "completed"
    },
    "tags": []
   },
   "outputs": [],
   "source": [
    "# Add a new column with only the first country retrieved\n",
    "df['first_country'] = df['country'].apply(lambda x: x.split(\",\")[0])"
   ]
  },
  {
   "cell_type": "markdown",
   "id": "6c969392",
   "metadata": {
    "papermill": {
     "duration": 0.008575,
     "end_time": "2023-01-30T04:32:59.609695",
     "exception": false,
     "start_time": "2023-01-30T04:32:59.601120",
     "status": "completed"
    },
    "tags": []
   },
   "source": [
    "## Convert datetime data\n",
    "<code>date_added</code> will be converted from long format to short format. Two new columns <code>month_added</code> and <code>year_added</code> will be created as well."
   ]
  },
  {
   "cell_type": "code",
   "execution_count": 7,
   "id": "4fa22fa7",
   "metadata": {
    "execution": {
     "iopub.execute_input": "2023-01-30T04:32:59.629539Z",
     "iopub.status.busy": "2023-01-30T04:32:59.629174Z",
     "iopub.status.idle": "2023-01-30T04:32:59.815614Z",
     "shell.execute_reply": "2023-01-30T04:32:59.814653Z"
    },
    "papermill": {
     "duration": 0.199572,
     "end_time": "2023-01-30T04:32:59.818031",
     "exception": false,
     "start_time": "2023-01-30T04:32:59.618459",
     "status": "completed"
    },
    "tags": []
   },
   "outputs": [],
   "source": [
    "# Convert date\n",
    "df['date_added'] = pd.to_datetime(df['date_added'])\n",
    "\n",
    "# Add month_added and year_added columns\n",
    "df['month_added'] = df['date_added'].dt.month_name()\n",
    "df['year_added'] = df['date_added'].dt.year.astype(int)\n",
    "\n",
    "# Create ordered levels for months\n",
    "month_order = ['January','February','March','April','May','June','July','August','September','October','November','December']\n",
    "df['month_added'] = pd.Categorical(df['month_added'], categories=month_order, ordered=True)"
   ]
  },
  {
   "cell_type": "markdown",
   "id": "d6dfb4a5",
   "metadata": {
    "papermill": {
     "duration": 0.008659,
     "end_time": "2023-01-30T04:32:59.835767",
     "exception": false,
     "start_time": "2023-01-30T04:32:59.827108",
     "status": "completed"
    },
    "tags": []
   },
   "source": [
    "## From rating to age groups\n",
    "The current movies and TV shows ratings will be categorized into four main age groups: Adults, Teens, Older Kids, and Kids"
   ]
  },
  {
   "cell_type": "code",
   "execution_count": 8,
   "id": "9e819b9f",
   "metadata": {
    "execution": {
     "iopub.execute_input": "2023-01-30T04:32:59.855462Z",
     "iopub.status.busy": "2023-01-30T04:32:59.855098Z",
     "iopub.status.idle": "2023-01-30T04:32:59.867571Z",
     "shell.execute_reply": "2023-01-30T04:32:59.866533Z"
    },
    "papermill": {
     "duration": 0.024579,
     "end_time": "2023-01-30T04:32:59.869444",
     "exception": false,
     "start_time": "2023-01-30T04:32:59.844865",
     "status": "completed"
    },
    "tags": []
   },
   "outputs": [],
   "source": [
    "# Add rating_age column\n",
    "age_group = {\n",
    "    'TV-PG': 'Older Kids',\n",
    "    'TV-MA': 'Adults',\n",
    "    'TV-Y7-FV': 'Older Kids',\n",
    "    'TV-Y7': 'Older Kids',\n",
    "    'TV-14': 'Teens',\n",
    "    'R': 'Adults',\n",
    "    'TV-Y': 'Kids',\n",
    "    'NR': 'Adults',\n",
    "    'PG-13': 'Teens',\n",
    "    'TV-G': 'Kids',\n",
    "    'PG': 'Older Kids',\n",
    "    'G': 'Kids',\n",
    "    'UR': 'Adults',\n",
    "    'NC-17': 'Adults'\n",
    "}\n",
    "\n",
    "df['rating_age'] = df['rating'].replace(age_group)"
   ]
  },
  {
   "cell_type": "code",
   "execution_count": 9,
   "id": "7cb24259",
   "metadata": {
    "execution": {
     "iopub.execute_input": "2023-01-30T04:32:59.889296Z",
     "iopub.status.busy": "2023-01-30T04:32:59.888194Z",
     "iopub.status.idle": "2023-01-30T04:32:59.907896Z",
     "shell.execute_reply": "2023-01-30T04:32:59.907210Z"
    },
    "papermill": {
     "duration": 0.032838,
     "end_time": "2023-01-30T04:32:59.911274",
     "exception": false,
     "start_time": "2023-01-30T04:32:59.878436",
     "status": "completed"
    },
    "tags": []
   },
   "outputs": [
    {
     "data": {
      "text/html": [
       "<div>\n",
       "<style scoped>\n",
       "    .dataframe tbody tr th:only-of-type {\n",
       "        vertical-align: middle;\n",
       "    }\n",
       "\n",
       "    .dataframe tbody tr th {\n",
       "        vertical-align: top;\n",
       "    }\n",
       "\n",
       "    .dataframe thead th {\n",
       "        text-align: right;\n",
       "    }\n",
       "</style>\n",
       "<table border=\"1\" class=\"dataframe\">\n",
       "  <thead>\n",
       "    <tr style=\"text-align: right;\">\n",
       "      <th></th>\n",
       "      <th>show_id</th>\n",
       "      <th>type</th>\n",
       "      <th>title</th>\n",
       "      <th>director</th>\n",
       "      <th>cast</th>\n",
       "      <th>country</th>\n",
       "      <th>date_added</th>\n",
       "      <th>release_year</th>\n",
       "      <th>rating</th>\n",
       "      <th>duration</th>\n",
       "      <th>listed_in</th>\n",
       "      <th>description</th>\n",
       "      <th>first_country</th>\n",
       "      <th>month_added</th>\n",
       "      <th>year_added</th>\n",
       "      <th>rating_age</th>\n",
       "    </tr>\n",
       "  </thead>\n",
       "  <tbody>\n",
       "    <tr>\n",
       "      <th>0</th>\n",
       "      <td>s1</td>\n",
       "      <td>Movie</td>\n",
       "      <td>Dick Johnson Is Dead</td>\n",
       "      <td>Kirsten Johnson</td>\n",
       "      <td>None</td>\n",
       "      <td>United States</td>\n",
       "      <td>2021-09-25</td>\n",
       "      <td>2020</td>\n",
       "      <td>PG-13</td>\n",
       "      <td>90 min</td>\n",
       "      <td>Documentaries</td>\n",
       "      <td>As her father nears the end of his life, filmm...</td>\n",
       "      <td>United States</td>\n",
       "      <td>September</td>\n",
       "      <td>2021</td>\n",
       "      <td>Teens</td>\n",
       "    </tr>\n",
       "    <tr>\n",
       "      <th>1</th>\n",
       "      <td>s2</td>\n",
       "      <td>TV Show</td>\n",
       "      <td>Blood &amp; Water</td>\n",
       "      <td>None</td>\n",
       "      <td>Ama Qamata, Khosi Ngema, Gail Mabalane, Thaban...</td>\n",
       "      <td>South Africa</td>\n",
       "      <td>2021-09-24</td>\n",
       "      <td>2021</td>\n",
       "      <td>TV-MA</td>\n",
       "      <td>2 Seasons</td>\n",
       "      <td>International TV Shows, TV Dramas, TV Mysteries</td>\n",
       "      <td>After crossing paths at a party, a Cape Town t...</td>\n",
       "      <td>South Africa</td>\n",
       "      <td>September</td>\n",
       "      <td>2021</td>\n",
       "      <td>Adults</td>\n",
       "    </tr>\n",
       "    <tr>\n",
       "      <th>2</th>\n",
       "      <td>s3</td>\n",
       "      <td>TV Show</td>\n",
       "      <td>Ganglands</td>\n",
       "      <td>Julien Leclercq</td>\n",
       "      <td>Sami Bouajila, Tracy Gotoas, Samuel Jouy, Nabi...</td>\n",
       "      <td>United States</td>\n",
       "      <td>2021-09-24</td>\n",
       "      <td>2021</td>\n",
       "      <td>TV-MA</td>\n",
       "      <td>1 Season</td>\n",
       "      <td>Crime TV Shows, International TV Shows, TV Act...</td>\n",
       "      <td>To protect his family from a powerful drug lor...</td>\n",
       "      <td>United States</td>\n",
       "      <td>September</td>\n",
       "      <td>2021</td>\n",
       "      <td>Adults</td>\n",
       "    </tr>\n",
       "    <tr>\n",
       "      <th>3</th>\n",
       "      <td>s4</td>\n",
       "      <td>TV Show</td>\n",
       "      <td>Jailbirds New Orleans</td>\n",
       "      <td>None</td>\n",
       "      <td>None</td>\n",
       "      <td>United States</td>\n",
       "      <td>2021-09-24</td>\n",
       "      <td>2021</td>\n",
       "      <td>TV-MA</td>\n",
       "      <td>1 Season</td>\n",
       "      <td>Docuseries, Reality TV</td>\n",
       "      <td>Feuds, flirtations and toilet talk go down amo...</td>\n",
       "      <td>United States</td>\n",
       "      <td>September</td>\n",
       "      <td>2021</td>\n",
       "      <td>Adults</td>\n",
       "    </tr>\n",
       "    <tr>\n",
       "      <th>4</th>\n",
       "      <td>s5</td>\n",
       "      <td>TV Show</td>\n",
       "      <td>Kota Factory</td>\n",
       "      <td>None</td>\n",
       "      <td>Mayur More, Jitendra Kumar, Ranjan Raj, Alam K...</td>\n",
       "      <td>India</td>\n",
       "      <td>2021-09-24</td>\n",
       "      <td>2021</td>\n",
       "      <td>TV-MA</td>\n",
       "      <td>2 Seasons</td>\n",
       "      <td>International TV Shows, Romantic TV Shows, TV ...</td>\n",
       "      <td>In a city of coaching centers known to train I...</td>\n",
       "      <td>India</td>\n",
       "      <td>September</td>\n",
       "      <td>2021</td>\n",
       "      <td>Adults</td>\n",
       "    </tr>\n",
       "  </tbody>\n",
       "</table>\n",
       "</div>"
      ],
      "text/plain": [
       "  show_id     type                  title         director  \\\n",
       "0      s1    Movie   Dick Johnson Is Dead  Kirsten Johnson   \n",
       "1      s2  TV Show          Blood & Water             None   \n",
       "2      s3  TV Show              Ganglands  Julien Leclercq   \n",
       "3      s4  TV Show  Jailbirds New Orleans             None   \n",
       "4      s5  TV Show           Kota Factory             None   \n",
       "\n",
       "                                                cast        country  \\\n",
       "0                                               None  United States   \n",
       "1  Ama Qamata, Khosi Ngema, Gail Mabalane, Thaban...   South Africa   \n",
       "2  Sami Bouajila, Tracy Gotoas, Samuel Jouy, Nabi...  United States   \n",
       "3                                               None  United States   \n",
       "4  Mayur More, Jitendra Kumar, Ranjan Raj, Alam K...          India   \n",
       "\n",
       "  date_added  release_year rating   duration  \\\n",
       "0 2021-09-25          2020  PG-13     90 min   \n",
       "1 2021-09-24          2021  TV-MA  2 Seasons   \n",
       "2 2021-09-24          2021  TV-MA   1 Season   \n",
       "3 2021-09-24          2021  TV-MA   1 Season   \n",
       "4 2021-09-24          2021  TV-MA  2 Seasons   \n",
       "\n",
       "                                           listed_in  \\\n",
       "0                                      Documentaries   \n",
       "1    International TV Shows, TV Dramas, TV Mysteries   \n",
       "2  Crime TV Shows, International TV Shows, TV Act...   \n",
       "3                             Docuseries, Reality TV   \n",
       "4  International TV Shows, Romantic TV Shows, TV ...   \n",
       "\n",
       "                                         description  first_country  \\\n",
       "0  As her father nears the end of his life, filmm...  United States   \n",
       "1  After crossing paths at a party, a Cape Town t...   South Africa   \n",
       "2  To protect his family from a powerful drug lor...  United States   \n",
       "3  Feuds, flirtations and toilet talk go down amo...  United States   \n",
       "4  In a city of coaching centers known to train I...          India   \n",
       "\n",
       "  month_added  year_added rating_age  \n",
       "0   September        2021      Teens  \n",
       "1   September        2021     Adults  \n",
       "2   September        2021     Adults  \n",
       "3   September        2021     Adults  \n",
       "4   September        2021     Adults  "
      ]
     },
     "metadata": {},
     "output_type": "display_data"
    }
   ],
   "source": [
    "# The final DataFrame\n",
    "display(df.head())"
   ]
  },
  {
   "cell_type": "markdown",
   "id": "52a68c9d",
   "metadata": {
    "papermill": {
     "duration": 0.009319,
     "end_time": "2023-01-30T04:32:59.929802",
     "exception": false,
     "start_time": "2023-01-30T04:32:59.920483",
     "status": "completed"
    },
    "tags": []
   },
   "source": [
    "<a id='top'></a>\n",
    "<div class=\"list-group\" id=\"list-tab\" role=\"tablist\"></div>\n",
    "\n",
    "<h2 style=\"text-align: left; background-color:#b20710; font-family: Arial Black; color: #f5f5f1; padding: 13px; line-height:0.9;border-radius:2px; margin-bottom: 0em; text-align: center; font-size: 25px; border-radius: 100px 100px;\">ANALYSIS & VISUALIZATION</h2>"
   ]
  },
  {
   "cell_type": "markdown",
   "id": "4ec58a8e",
   "metadata": {
    "papermill": {
     "duration": 0.008579,
     "end_time": "2023-01-30T04:32:59.947354",
     "exception": false,
     "start_time": "2023-01-30T04:32:59.938775",
     "status": "completed"
    },
    "tags": []
   },
   "source": [
    "In this part of the notebook, we'll begin uncovering some insights based on task ideas susggested by the dataset owner:\n",
    "- What content is available in different countries\n",
    "- Does Netflix has more focus on TV Shows than movies in recent years?\n",
    "\n",
    "We'll start with the first question. Since the data is quite large, we'll mostly focus on the top 10 countries with most contents available on Netflix."
   ]
  },
  {
   "cell_type": "code",
   "execution_count": 10,
   "id": "692e79e9",
   "metadata": {
    "execution": {
     "iopub.execute_input": "2023-01-30T04:32:59.967828Z",
     "iopub.status.busy": "2023-01-30T04:32:59.967475Z",
     "iopub.status.idle": "2023-01-30T04:32:59.983783Z",
     "shell.execute_reply": "2023-01-30T04:32:59.982937Z"
    },
    "papermill": {
     "duration": 0.030009,
     "end_time": "2023-01-30T04:32:59.986310",
     "exception": false,
     "start_time": "2023-01-30T04:32:59.956301",
     "status": "completed"
    },
    "tags": []
   },
   "outputs": [
    {
     "data": {
      "text/html": [
       "<div>\n",
       "<style scoped>\n",
       "    .dataframe tbody tr th:only-of-type {\n",
       "        vertical-align: middle;\n",
       "    }\n",
       "\n",
       "    .dataframe tbody tr th {\n",
       "        vertical-align: top;\n",
       "    }\n",
       "\n",
       "    .dataframe thead th {\n",
       "        text-align: right;\n",
       "    }\n",
       "</style>\n",
       "<table border=\"1\" class=\"dataframe\">\n",
       "  <thead>\n",
       "    <tr style=\"text-align: right;\">\n",
       "      <th></th>\n",
       "      <th>title</th>\n",
       "    </tr>\n",
       "    <tr>\n",
       "      <th>first_country</th>\n",
       "      <th></th>\n",
       "    </tr>\n",
       "  </thead>\n",
       "  <tbody>\n",
       "    <tr>\n",
       "      <th>United States</th>\n",
       "      <td>4031</td>\n",
       "    </tr>\n",
       "    <tr>\n",
       "      <th>India</th>\n",
       "      <td>1008</td>\n",
       "    </tr>\n",
       "    <tr>\n",
       "      <th>United Kingdom</th>\n",
       "      <td>627</td>\n",
       "    </tr>\n",
       "    <tr>\n",
       "      <th>Canada</th>\n",
       "      <td>271</td>\n",
       "    </tr>\n",
       "    <tr>\n",
       "      <th>Japan</th>\n",
       "      <td>257</td>\n",
       "    </tr>\n",
       "    <tr>\n",
       "      <th>France</th>\n",
       "      <td>212</td>\n",
       "    </tr>\n",
       "    <tr>\n",
       "      <th>South Korea</th>\n",
       "      <td>211</td>\n",
       "    </tr>\n",
       "    <tr>\n",
       "      <th>Spain</th>\n",
       "      <td>181</td>\n",
       "    </tr>\n",
       "    <tr>\n",
       "      <th>Mexico</th>\n",
       "      <td>134</td>\n",
       "    </tr>\n",
       "    <tr>\n",
       "      <th>Australia</th>\n",
       "      <td>115</td>\n",
       "    </tr>\n",
       "  </tbody>\n",
       "</table>\n",
       "</div>"
      ],
      "text/plain": [
       "                title\n",
       "first_country        \n",
       "United States    4031\n",
       "India            1008\n",
       "United Kingdom    627\n",
       "Canada            271\n",
       "Japan             257\n",
       "France            212\n",
       "South Korea       211\n",
       "Spain             181\n",
       "Mexico            134\n",
       "Australia         115"
      ]
     },
     "metadata": {},
     "output_type": "display_data"
    }
   ],
   "source": [
    "# Total number of contents in each country\n",
    "content_counts = df.groupby('first_country')[['title']].count()\n",
    "content_counts.sort_values(by='title', ascending=False, inplace=True)\n",
    "\n",
    "# Top 10 countries with most contents\n",
    "content_counts_10 = content_counts.head(10)\n",
    "\n",
    "display(content_counts_10)"
   ]
  },
  {
   "cell_type": "code",
   "execution_count": 11,
   "id": "a266918f",
   "metadata": {
    "execution": {
     "iopub.execute_input": "2023-01-30T04:33:00.006360Z",
     "iopub.status.busy": "2023-01-30T04:33:00.005956Z",
     "iopub.status.idle": "2023-01-30T04:33:00.254015Z",
     "shell.execute_reply": "2023-01-30T04:33:00.252964Z"
    },
    "papermill": {
     "duration": 0.260255,
     "end_time": "2023-01-30T04:33:00.255911",
     "exception": false,
     "start_time": "2023-01-30T04:32:59.995656",
     "status": "completed"
    },
    "tags": []
   },
   "outputs": [
    {
     "data": {
      "text/plain": [
       "Text(0.5, 0, '')"
      ]
     },
     "execution_count": 11,
     "metadata": {},
     "output_type": "execute_result"
    },
    {
     "data": {
      "image/png": "[encoded data removed]",
      "text/plain": [
       "<Figure size 1080x432 with 1 Axes>"
      ]
     },
     "metadata": {
      "needs_background": "light"
     },
     "output_type": "display_data"
    }
   ],
   "source": [
    "# Plot\n",
    "fig, ax = plt.subplots(1, 1, figsize=(15, 6))\n",
    "ax.bar(content_counts_10.index, content_counts_10.title, width=0.7, color='#b20710')\n",
    "\n",
    "for p in ax.patches:\n",
    "    ax.annotate(text=p.get_height(),\n",
    "                xy=(p.get_x() + p.get_width() / 2, p.get_height()),\n",
    "                xytext=(0, 8), textcoords='offset points',\n",
    "                ha='center', va='center', size=8)\n",
    "\n",
    "# Ticks\n",
    "ax.tick_params(axis='both', which='major', bottom=False, left=False, labelsize=10)\n",
    "\n",
    "# Grid\n",
    "ax.grid(axis='y', linestyle='-', alpha=0.4) \n",
    "ax.set_axisbelow(True)\n",
    "\n",
    "# Frame border\n",
    "for s in ['top', 'right', 'left']:\n",
    "    ax.spines[s].set_visible(False)\n",
    "\n",
    "# Legend\n",
    "plt.legend().remove()\n",
    "\n",
    "# Title, subtitle, and axis title\n",
    "ax.set_title('Top 10 countries with most contents on Netflix', loc='left', y=1.15, size=20, fontweight='bold', fontfamily='san serif')\n",
    "ax.text(0, 1.1, 'Source: Netflix Movies and TV Shows Dataset',  transform=ax.transAxes, ha='left', size=12, fontfamily='san serif')\n",
    "ax.set_xlabel(None)"
   ]
  },
  {
   "cell_type": "markdown",
   "id": "90cd3141",
   "metadata": {
    "papermill": {
     "duration": 0.009722,
     "end_time": "2023-01-30T04:33:00.275945",
     "exception": false,
     "start_time": "2023-01-30T04:33:00.266223",
     "status": "completed"
    },
    "tags": []
   },
   "source": [
    "**Comment:** As expected, the region where Netflix's headquarter is placed, i.e., the United States has the largest movies and TV shows resources, whereas India and the United Kingdom come in second and third place, respectively."
   ]
  },
  {
   "cell_type": "code",
   "execution_count": 12,
   "id": "05b4aba9",
   "metadata": {
    "execution": {
     "iopub.execute_input": "2023-01-30T04:33:00.298450Z",
     "iopub.status.busy": "2023-01-30T04:33:00.298108Z",
     "iopub.status.idle": "2023-01-30T04:33:00.304596Z",
     "shell.execute_reply": "2023-01-30T04:33:00.302849Z"
    },
    "papermill": {
     "duration": 0.021089,
     "end_time": "2023-01-30T04:33:00.307527",
     "exception": false,
     "start_time": "2023-01-30T04:33:00.286438",
     "status": "completed"
    },
    "tags": []
   },
   "outputs": [
    {
     "name": "stdout",
     "output_type": "stream",
     "text": [
      "['United States', 'India', 'United Kingdom', 'Canada', 'Japan', 'France', 'South Korea', 'Spain', 'Mexico', 'Australia']\n"
     ]
    }
   ],
   "source": [
    "# Create a list of top 10 countries\n",
    "top10 = list(content_counts_10.index)\n",
    "\n",
    "print(top10)"
   ]
  },
  {
   "cell_type": "markdown",
   "id": "64d48895",
   "metadata": {
    "papermill": {
     "duration": 0.00941,
     "end_time": "2023-01-30T04:33:00.327584",
     "exception": false,
     "start_time": "2023-01-30T04:33:00.318174",
     "status": "completed"
    },
    "tags": []
   },
   "source": [
    "## What content is available in different countries?\n",
    "We'll see the percentages of movies and TV shows available in each of the top 10 countries."
   ]
  },
  {
   "cell_type": "code",
   "execution_count": 13,
   "id": "7b0afe88",
   "metadata": {
    "execution": {
     "iopub.execute_input": "2023-01-30T04:33:00.348364Z",
     "iopub.status.busy": "2023-01-30T04:33:00.347944Z",
     "iopub.status.idle": "2023-01-30T04:33:00.382053Z",
     "shell.execute_reply": "2023-01-30T04:33:00.381144Z"
    },
    "papermill": {
     "duration": 0.046701,
     "end_time": "2023-01-30T04:33:00.383911",
     "exception": false,
     "start_time": "2023-01-30T04:33:00.337210",
     "status": "completed"
    },
    "tags": []
   },
   "outputs": [
    {
     "data": {
      "text/html": [
       "<div>\n",
       "<style scoped>\n",
       "    .dataframe tbody tr th:only-of-type {\n",
       "        vertical-align: middle;\n",
       "    }\n",
       "\n",
       "    .dataframe tbody tr th {\n",
       "        vertical-align: top;\n",
       "    }\n",
       "\n",
       "    .dataframe thead th {\n",
       "        text-align: right;\n",
       "    }\n",
       "</style>\n",
       "<table border=\"1\" class=\"dataframe\">\n",
       "  <thead>\n",
       "    <tr style=\"text-align: right;\">\n",
       "      <th>first_country</th>\n",
       "      <th>United States</th>\n",
       "      <th>India</th>\n",
       "      <th>United Kingdom</th>\n",
       "      <th>Canada</th>\n",
       "      <th>Japan</th>\n",
       "      <th>France</th>\n",
       "      <th>South Korea</th>\n",
       "      <th>Spain</th>\n",
       "      <th>Mexico</th>\n",
       "      <th>Australia</th>\n",
       "    </tr>\n",
       "    <tr>\n",
       "      <th>type</th>\n",
       "      <th></th>\n",
       "      <th></th>\n",
       "      <th></th>\n",
       "      <th></th>\n",
       "      <th></th>\n",
       "      <th></th>\n",
       "      <th></th>\n",
       "      <th></th>\n",
       "      <th></th>\n",
       "      <th></th>\n",
       "    </tr>\n",
       "  </thead>\n",
       "  <tbody>\n",
       "    <tr>\n",
       "      <th>Movie</th>\n",
       "      <td>2800.0</td>\n",
       "      <td>927.0</td>\n",
       "      <td>382.0</td>\n",
       "      <td>187.0</td>\n",
       "      <td>85.0</td>\n",
       "      <td>148.0</td>\n",
       "      <td>47.0</td>\n",
       "      <td>129.0</td>\n",
       "      <td>86.0</td>\n",
       "      <td>61.0</td>\n",
       "    </tr>\n",
       "    <tr>\n",
       "      <th>TV Show</th>\n",
       "      <td>1231.0</td>\n",
       "      <td>81.0</td>\n",
       "      <td>245.0</td>\n",
       "      <td>84.0</td>\n",
       "      <td>172.0</td>\n",
       "      <td>64.0</td>\n",
       "      <td>164.0</td>\n",
       "      <td>52.0</td>\n",
       "      <td>48.0</td>\n",
       "      <td>54.0</td>\n",
       "    </tr>\n",
       "  </tbody>\n",
       "</table>\n",
       "</div>"
      ],
      "text/plain": [
       "first_country  United States  India  United Kingdom  Canada  Japan  France  \\\n",
       "type                                                                         \n",
       "Movie                 2800.0  927.0           382.0   187.0   85.0   148.0   \n",
       "TV Show               1231.0   81.0           245.0    84.0  172.0    64.0   \n",
       "\n",
       "first_country  South Korea  Spain  Mexico  Australia  \n",
       "type                                                  \n",
       "Movie                 47.0  129.0    86.0       61.0  \n",
       "TV Show              164.0   52.0    48.0       54.0  "
      ]
     },
     "metadata": {},
     "output_type": "display_data"
    },
    {
     "data": {
      "text/html": [
       "<div>\n",
       "<style scoped>\n",
       "    .dataframe tbody tr th:only-of-type {\n",
       "        vertical-align: middle;\n",
       "    }\n",
       "\n",
       "    .dataframe tbody tr th {\n",
       "        vertical-align: top;\n",
       "    }\n",
       "\n",
       "    .dataframe thead th {\n",
       "        text-align: right;\n",
       "    }\n",
       "</style>\n",
       "<table border=\"1\" class=\"dataframe\">\n",
       "  <thead>\n",
       "    <tr style=\"text-align: right;\">\n",
       "      <th>type</th>\n",
       "      <th>Movie</th>\n",
       "      <th>TV Show</th>\n",
       "      <th>sum</th>\n",
       "    </tr>\n",
       "    <tr>\n",
       "      <th>first_country</th>\n",
       "      <th></th>\n",
       "      <th></th>\n",
       "      <th></th>\n",
       "    </tr>\n",
       "  </thead>\n",
       "  <tbody>\n",
       "    <tr>\n",
       "      <th>United States</th>\n",
       "      <td>2800.0</td>\n",
       "      <td>1231.0</td>\n",
       "      <td>4031.0</td>\n",
       "    </tr>\n",
       "    <tr>\n",
       "      <th>India</th>\n",
       "      <td>927.0</td>\n",
       "      <td>81.0</td>\n",
       "      <td>1008.0</td>\n",
       "    </tr>\n",
       "    <tr>\n",
       "      <th>United Kingdom</th>\n",
       "      <td>382.0</td>\n",
       "      <td>245.0</td>\n",
       "      <td>627.0</td>\n",
       "    </tr>\n",
       "    <tr>\n",
       "      <th>Canada</th>\n",
       "      <td>187.0</td>\n",
       "      <td>84.0</td>\n",
       "      <td>271.0</td>\n",
       "    </tr>\n",
       "    <tr>\n",
       "      <th>Japan</th>\n",
       "      <td>85.0</td>\n",
       "      <td>172.0</td>\n",
       "      <td>257.0</td>\n",
       "    </tr>\n",
       "    <tr>\n",
       "      <th>France</th>\n",
       "      <td>148.0</td>\n",
       "      <td>64.0</td>\n",
       "      <td>212.0</td>\n",
       "    </tr>\n",
       "    <tr>\n",
       "      <th>South Korea</th>\n",
       "      <td>47.0</td>\n",
       "      <td>164.0</td>\n",
       "      <td>211.0</td>\n",
       "    </tr>\n",
       "    <tr>\n",
       "      <th>Spain</th>\n",
       "      <td>129.0</td>\n",
       "      <td>52.0</td>\n",
       "      <td>181.0</td>\n",
       "    </tr>\n",
       "    <tr>\n",
       "      <th>Mexico</th>\n",
       "      <td>86.0</td>\n",
       "      <td>48.0</td>\n",
       "      <td>134.0</td>\n",
       "    </tr>\n",
       "    <tr>\n",
       "      <th>Australia</th>\n",
       "      <td>61.0</td>\n",
       "      <td>54.0</td>\n",
       "      <td>115.0</td>\n",
       "    </tr>\n",
       "  </tbody>\n",
       "</table>\n",
       "</div>"
      ],
      "text/plain": [
       "type             Movie  TV Show     sum\n",
       "first_country                          \n",
       "United States   2800.0   1231.0  4031.0\n",
       "India            927.0     81.0  1008.0\n",
       "United Kingdom   382.0    245.0   627.0\n",
       "Canada           187.0     84.0   271.0\n",
       "Japan             85.0    172.0   257.0\n",
       "France           148.0     64.0   212.0\n",
       "South Korea       47.0    164.0   211.0\n",
       "Spain            129.0     52.0   181.0\n",
       "Mexico            86.0     48.0   134.0\n",
       "Australia         61.0     54.0   115.0"
      ]
     },
     "metadata": {},
     "output_type": "display_data"
    }
   ],
   "source": [
    "# Number of contents by type for the top 10 countries\n",
    "country_type = df.groupby('first_country')['type'].value_counts().unstack()\n",
    "country_type_10 = country_type.loc[top10]\n",
    "\n",
    "# Transpose\n",
    "display(country_type_10.T)\n",
    "\n",
    "# Add a sum column\n",
    "country_type_10['sum'] = country_type_10.sum(axis=1)\n",
    "\n",
    "display(country_type_10)"
   ]
  },
  {
   "cell_type": "code",
   "execution_count": 14,
   "id": "534eebd1",
   "metadata": {
    "execution": {
     "iopub.execute_input": "2023-01-30T04:33:00.406096Z",
     "iopub.status.busy": "2023-01-30T04:33:00.405742Z",
     "iopub.status.idle": "2023-01-30T04:33:00.418338Z",
     "shell.execute_reply": "2023-01-30T04:33:00.417429Z"
    },
    "papermill": {
     "duration": 0.025813,
     "end_time": "2023-01-30T04:33:00.420109",
     "exception": false,
     "start_time": "2023-01-30T04:33:00.394296",
     "status": "completed"
    },
    "tags": []
   },
   "outputs": [
    {
     "data": {
      "text/html": [
       "<div>\n",
       "<style scoped>\n",
       "    .dataframe tbody tr th:only-of-type {\n",
       "        vertical-align: middle;\n",
       "    }\n",
       "\n",
       "    .dataframe tbody tr th {\n",
       "        vertical-align: top;\n",
       "    }\n",
       "\n",
       "    .dataframe thead th {\n",
       "        text-align: right;\n",
       "    }\n",
       "</style>\n",
       "<table border=\"1\" class=\"dataframe\">\n",
       "  <thead>\n",
       "    <tr style=\"text-align: right;\">\n",
       "      <th>type</th>\n",
       "      <th>Movie</th>\n",
       "      <th>TV Show</th>\n",
       "    </tr>\n",
       "    <tr>\n",
       "      <th>first_country</th>\n",
       "      <th></th>\n",
       "      <th></th>\n",
       "    </tr>\n",
       "  </thead>\n",
       "  <tbody>\n",
       "    <tr>\n",
       "      <th>South Korea</th>\n",
       "      <td>0.222749</td>\n",
       "      <td>0.777251</td>\n",
       "    </tr>\n",
       "    <tr>\n",
       "      <th>Japan</th>\n",
       "      <td>0.330739</td>\n",
       "      <td>0.669261</td>\n",
       "    </tr>\n",
       "    <tr>\n",
       "      <th>Australia</th>\n",
       "      <td>0.530435</td>\n",
       "      <td>0.469565</td>\n",
       "    </tr>\n",
       "    <tr>\n",
       "      <th>United Kingdom</th>\n",
       "      <td>0.609250</td>\n",
       "      <td>0.390750</td>\n",
       "    </tr>\n",
       "    <tr>\n",
       "      <th>Mexico</th>\n",
       "      <td>0.641791</td>\n",
       "      <td>0.358209</td>\n",
       "    </tr>\n",
       "    <tr>\n",
       "      <th>Canada</th>\n",
       "      <td>0.690037</td>\n",
       "      <td>0.309963</td>\n",
       "    </tr>\n",
       "    <tr>\n",
       "      <th>United States</th>\n",
       "      <td>0.694617</td>\n",
       "      <td>0.305383</td>\n",
       "    </tr>\n",
       "    <tr>\n",
       "      <th>France</th>\n",
       "      <td>0.698113</td>\n",
       "      <td>0.301887</td>\n",
       "    </tr>\n",
       "    <tr>\n",
       "      <th>Spain</th>\n",
       "      <td>0.712707</td>\n",
       "      <td>0.287293</td>\n",
       "    </tr>\n",
       "    <tr>\n",
       "      <th>India</th>\n",
       "      <td>0.919643</td>\n",
       "      <td>0.080357</td>\n",
       "    </tr>\n",
       "  </tbody>\n",
       "</table>\n",
       "</div>"
      ],
      "text/plain": [
       "type               Movie   TV Show\n",
       "first_country                     \n",
       "South Korea     0.222749  0.777251\n",
       "Japan           0.330739  0.669261\n",
       "Australia       0.530435  0.469565\n",
       "United Kingdom  0.609250  0.390750\n",
       "Mexico          0.641791  0.358209\n",
       "Canada          0.690037  0.309963\n",
       "United States   0.694617  0.305383\n",
       "France          0.698113  0.301887\n",
       "Spain           0.712707  0.287293\n",
       "India           0.919643  0.080357"
      ]
     },
     "metadata": {},
     "output_type": "display_data"
    }
   ],
   "source": [
    "# Calculate the percentage for each type (matrix division)\n",
    "country_type_10_per = (country_type_10.T / country_type_10['sum']).T\n",
    "\n",
    "# Sort values\n",
    "country_type_10_per_sort = country_type_10_per[['Movie','TV Show']].sort_values(by='Movie')\n",
    "\n",
    "display(country_type_10_per_sort)"
   ]
  },
  {
   "cell_type": "code",
   "execution_count": 15,
   "id": "9fec034a",
   "metadata": {
    "execution": {
     "iopub.execute_input": "2023-01-30T04:33:00.441916Z",
     "iopub.status.busy": "2023-01-30T04:33:00.441578Z",
     "iopub.status.idle": "2023-01-30T04:33:00.692543Z",
     "shell.execute_reply": "2023-01-30T04:33:00.691722Z"
    },
    "papermill": {
     "duration": 0.263839,
     "end_time": "2023-01-30T04:33:00.694293",
     "exception": false,
     "start_time": "2023-01-30T04:33:00.430454",
     "status": "completed"
    },
    "tags": []
   },
   "outputs": [
    {
     "data": {
      "text/plain": [
       "Text(0.805, 0.9, 'TV Show')"
      ]
     },
     "execution_count": 15,
     "metadata": {},
     "output_type": "execute_result"
    },
    {
     "data": {
      "image/png": "[encoded data removed]",
      "text/plain": [
       "<Figure size 1080x432 with 1 Axes>"
      ]
     },
     "metadata": {
      "needs_background": "light"
     },
     "output_type": "display_data"
    }
   ],
   "source": [
    "# Plot\n",
    "fig = plt.figure(figsize=(15, 6))\n",
    "ax = country_type_10_per_sort['Movie'].plot(kind='barh', width=0.7, color='#b20710')\n",
    "ax = country_type_10_per_sort['TV Show'].plot(kind='barh', width=0.7, color='#221f1f', left=country_type_10_per_sort['Movie'])\n",
    "\n",
    "for p in ax.patches:\n",
    "    left, bottom, width, height = p.get_bbox().bounds\n",
    "    ax.annotate(text=str(np.round(width*100, 2)) + '%', \n",
    "                xy=(left+width/2, bottom+height/2), \n",
    "                ha='center', va='center', color='white')\n",
    "\n",
    "# Ticks and ticks label\n",
    "ax.tick_params(axis='both', which='major', bottom=False, left=False, labelsize=10)\n",
    "ax.set_xticklabels([])\n",
    "\n",
    "# Frame border\n",
    "for s in ['top', 'right', 'bottom', 'left']:\n",
    "    ax.spines[s].set_visible(False)\n",
    "\n",
    "# Title and axis title\n",
    "ax.set_title('Percentages of movie & TV show of the top 10 countries', loc='left', y=1.15, size=20, fontweight='bold', fontfamily='san serif')\n",
    "ax.text(0, 1.1, 'Source: Netflix Movies and TV Shows Dataset',  transform=ax.transAxes, ha='left', size=12, fontfamily='san serif')\n",
    "ax.set_ylabel(None)\n",
    "\n",
    "# Annotation\n",
    "fig.text(0.755,0.9,'Movie', fontweight='bold', fontsize=12, color='#b20710')\n",
    "fig.text(0.796,0.9,'|', fontweight='bold', fontsize=12, color='black')\n",
    "fig.text(0.805,0.9,'TV Show', fontweight='bold', fontsize=12, color='#221f1f')"
   ]
  },
  {
   "cell_type": "markdown",
   "id": "99cfd544",
   "metadata": {
    "papermill": {
     "duration": 0.011104,
     "end_time": "2023-01-30T04:33:00.716840",
     "exception": false,
     "start_time": "2023-01-30T04:33:00.705736",
     "status": "completed"
    },
    "tags": []
   },
   "source": [
    "**Comment:** We can see that the Indian market is significantly dominated by movies with nearly 92% of the contents falling into this category. On the other hand, the opposite is applied for South Korea with only 22.27% of the contents being movies. This actually surprises me as I've expected Netflix Korea to have an evenly distribued proportion of contents due to the popularity of both K-dramas and their TV shows!"
   ]
  },
  {
   "cell_type": "markdown",
   "id": "8430a7fe",
   "metadata": {
    "papermill": {
     "duration": 0.011254,
     "end_time": "2023-01-30T04:33:00.739535",
     "exception": false,
     "start_time": "2023-01-30T04:33:00.728281",
     "status": "completed"
    },
    "tags": []
   },
   "source": [
    "## Does Netflix has more focus on TV Shows than movies in recent years?\n",
    "Let's see how many movies and TV shows have been added onto Netflix in recent years."
   ]
  },
  {
   "cell_type": "code",
   "execution_count": 16,
   "id": "d18bb55c",
   "metadata": {
    "execution": {
     "iopub.execute_input": "2023-01-30T04:33:00.764626Z",
     "iopub.status.busy": "2023-01-30T04:33:00.764276Z",
     "iopub.status.idle": "2023-01-30T04:33:00.779583Z",
     "shell.execute_reply": "2023-01-30T04:33:00.778361Z"
    },
    "papermill": {
     "duration": 0.030922,
     "end_time": "2023-01-30T04:33:00.781949",
     "exception": false,
     "start_time": "2023-01-30T04:33:00.751027",
     "status": "completed"
    },
    "tags": []
   },
   "outputs": [
    {
     "data": {
      "text/html": [
       "<div>\n",
       "<style scoped>\n",
       "    .dataframe tbody tr th:only-of-type {\n",
       "        vertical-align: middle;\n",
       "    }\n",
       "\n",
       "    .dataframe tbody tr th {\n",
       "        vertical-align: top;\n",
       "    }\n",
       "\n",
       "    .dataframe thead th {\n",
       "        text-align: right;\n",
       "    }\n",
       "</style>\n",
       "<table border=\"1\" class=\"dataframe\">\n",
       "  <thead>\n",
       "    <tr style=\"text-align: right;\">\n",
       "      <th></th>\n",
       "      <th></th>\n",
       "      <th>title</th>\n",
       "    </tr>\n",
       "    <tr>\n",
       "      <th>type</th>\n",
       "      <th>year_added</th>\n",
       "      <th></th>\n",
       "    </tr>\n",
       "  </thead>\n",
       "  <tbody>\n",
       "    <tr>\n",
       "      <th rowspan=\"14\" valign=\"top\">Movie</th>\n",
       "      <th>2008</th>\n",
       "      <td>1</td>\n",
       "    </tr>\n",
       "    <tr>\n",
       "      <th>2009</th>\n",
       "      <td>2</td>\n",
       "    </tr>\n",
       "    <tr>\n",
       "      <th>2010</th>\n",
       "      <td>1</td>\n",
       "    </tr>\n",
       "    <tr>\n",
       "      <th>2011</th>\n",
       "      <td>13</td>\n",
       "    </tr>\n",
       "    <tr>\n",
       "      <th>2012</th>\n",
       "      <td>3</td>\n",
       "    </tr>\n",
       "    <tr>\n",
       "      <th>2013</th>\n",
       "      <td>6</td>\n",
       "    </tr>\n",
       "    <tr>\n",
       "      <th>2014</th>\n",
       "      <td>19</td>\n",
       "    </tr>\n",
       "    <tr>\n",
       "      <th>2015</th>\n",
       "      <td>56</td>\n",
       "    </tr>\n",
       "    <tr>\n",
       "      <th>2016</th>\n",
       "      <td>251</td>\n",
       "    </tr>\n",
       "    <tr>\n",
       "      <th>2017</th>\n",
       "      <td>836</td>\n",
       "    </tr>\n",
       "    <tr>\n",
       "      <th>2018</th>\n",
       "      <td>1237</td>\n",
       "    </tr>\n",
       "    <tr>\n",
       "      <th>2019</th>\n",
       "      <td>1424</td>\n",
       "    </tr>\n",
       "    <tr>\n",
       "      <th>2020</th>\n",
       "      <td>1284</td>\n",
       "    </tr>\n",
       "    <tr>\n",
       "      <th>2021</th>\n",
       "      <td>993</td>\n",
       "    </tr>\n",
       "    <tr>\n",
       "      <th rowspan=\"10\" valign=\"top\">TV Show</th>\n",
       "      <th>2008</th>\n",
       "      <td>1</td>\n",
       "    </tr>\n",
       "    <tr>\n",
       "      <th>2013</th>\n",
       "      <td>5</td>\n",
       "    </tr>\n",
       "    <tr>\n",
       "      <th>2014</th>\n",
       "      <td>5</td>\n",
       "    </tr>\n",
       "    <tr>\n",
       "      <th>2015</th>\n",
       "      <td>26</td>\n",
       "    </tr>\n",
       "    <tr>\n",
       "      <th>2016</th>\n",
       "      <td>175</td>\n",
       "    </tr>\n",
       "    <tr>\n",
       "      <th>2017</th>\n",
       "      <td>349</td>\n",
       "    </tr>\n",
       "    <tr>\n",
       "      <th>2018</th>\n",
       "      <td>411</td>\n",
       "    </tr>\n",
       "    <tr>\n",
       "      <th>2019</th>\n",
       "      <td>592</td>\n",
       "    </tr>\n",
       "    <tr>\n",
       "      <th>2020</th>\n",
       "      <td>595</td>\n",
       "    </tr>\n",
       "    <tr>\n",
       "      <th>2021</th>\n",
       "      <td>505</td>\n",
       "    </tr>\n",
       "  </tbody>\n",
       "</table>\n",
       "</div>"
      ],
      "text/plain": [
       "                    title\n",
       "type    year_added       \n",
       "Movie   2008            1\n",
       "        2009            2\n",
       "        2010            1\n",
       "        2011           13\n",
       "        2012            3\n",
       "        2013            6\n",
       "        2014           19\n",
       "        2015           56\n",
       "        2016          251\n",
       "        2017          836\n",
       "        2018         1237\n",
       "        2019         1424\n",
       "        2020         1284\n",
       "        2021          993\n",
       "TV Show 2008            1\n",
       "        2013            5\n",
       "        2014            5\n",
       "        2015           26\n",
       "        2016          175\n",
       "        2017          349\n",
       "        2018          411\n",
       "        2019          592\n",
       "        2020          595\n",
       "        2021          505"
      ]
     },
     "metadata": {},
     "output_type": "display_data"
    }
   ],
   "source": [
    "# Titles categorized by type and year added (for DataFrame viewing only)\n",
    "conent_year_df = df.groupby(['type', 'year_added'])[['title']].count()\n",
    "\n",
    "display(conent_year_df)"
   ]
  },
  {
   "cell_type": "code",
   "execution_count": 17,
   "id": "1ceb9965",
   "metadata": {
    "execution": {
     "iopub.execute_input": "2023-01-30T04:33:00.807555Z",
     "iopub.status.busy": "2023-01-30T04:33:00.806397Z",
     "iopub.status.idle": "2023-01-30T04:33:00.977027Z",
     "shell.execute_reply": "2023-01-30T04:33:00.975914Z"
    },
    "papermill": {
     "duration": 0.185984,
     "end_time": "2023-01-30T04:33:00.979702",
     "exception": false,
     "start_time": "2023-01-30T04:33:00.793718",
     "status": "completed"
    },
    "tags": []
   },
   "outputs": [
    {
     "data": {
      "text/plain": [
       "Text(0.85, 0.9, 'TV Show')"
      ]
     },
     "execution_count": 17,
     "metadata": {},
     "output_type": "execute_result"
    },
    {
     "data": {
      "image/png": "[encoded data removed]",
      "text/plain": [
       "<Figure size 1080x432 with 1 Axes>"
      ]
     },
     "metadata": {
      "needs_background": "light"
     },
     "output_type": "display_data"
    }
   ],
   "source": [
    "# Series (ex: Movie)\n",
    "#conent_year_series = df[df['type']=='Movie']['year_added'].value_counts().sort_index()\n",
    "#display(conent_year_series)\n",
    "#display(conent_year_series.index)\n",
    "\n",
    "# Plot\n",
    "palette = ['#b20710', '#221f1f']\n",
    "\n",
    "fig, ax = plt.subplots(1, 1, figsize=(15, 6))\n",
    "\n",
    "for i, type in enumerate(['Movie','TV Show']):\n",
    "    content_year = df[df['type']==type]['year_added'].value_counts().sort_index()\n",
    "    ax.plot(content_year.index, content_year, color=palette[i], label=type)\n",
    "    ax.fill_between(x=content_year.index, y1=0, y2=content_year, color=palette[i])\n",
    "\n",
    "# Axis\n",
    "ax.set_xlim(2008,2020)\n",
    "    \n",
    "# Ticks and ticks label\n",
    "ax.tick_params(axis='both', which='major', bottom=False, left=False, labelsize=10)\n",
    "plt.xticks(np.arange(2008, 2021, 1))\n",
    "\n",
    "# Grid\n",
    "ax.grid(axis='y', linestyle='-', alpha=0.4) \n",
    "ax.set_axisbelow(True)\n",
    "\n",
    "# Frame border\n",
    "for s in ['top', 'right', 'bottom', 'left']:\n",
    "    ax.spines[s].set_visible(False)\n",
    "    \n",
    "# Title and axis title\n",
    "ax.set_title('Contents added over the years', loc='left', y=1.15, size=20, fontweight='bold', fontfamily='san serif')\n",
    "ax.text(0, 1.1, 'Source: Netflix Movies and TV Shows Dataset',  transform=ax.transAxes, ha='left', size=12, fontfamily='san serif')\n",
    "\n",
    "# Annotation\n",
    "fig.text(0.8,0.9,'Movie', fontweight='bold', fontsize=12, color='#b20710')\n",
    "fig.text(0.841,0.9,'|', fontweight='bold', fontsize=12, color='black')\n",
    "fig.text(0.85,0.9,'TV Show', fontweight='bold', fontsize=12, color='#221f1f')"
   ]
  },
  {
   "cell_type": "markdown",
   "id": "428914af",
   "metadata": {
    "papermill": {
     "duration": 0.011544,
     "end_time": "2023-01-30T04:33:01.003840",
     "exception": false,
     "start_time": "2023-01-30T04:33:00.992296",
     "status": "completed"
    },
    "tags": []
   },
   "source": [
    "**Comment**: The number of new movies added has increased drastically from over 200 titles to more than 1,400 during 2016 to before 2019. After that, there was a considerable drop in it which was probably due to the impacts of COVID-19 causing delays in the production of new movies, especially Netflix originals series.\n",
    "\n",
    "As for TV shows, there was a steep rise in the number of new contents added from 2015 to 2017 before it reached a peak in 2019. In constrast with movies, newly added TV shows content only decreased moderately during 2019."
   ]
  },
  {
   "cell_type": "markdown",
   "id": "a1d9b9db",
   "metadata": {
    "papermill": {
     "duration": 0.011251,
     "end_time": "2023-01-30T04:33:01.026641",
     "exception": false,
     "start_time": "2023-01-30T04:33:01.015390",
     "status": "completed"
    },
    "tags": []
   },
   "source": [
    "## How about the contents added by month?\n",
    "I'm also interested in the overall contents added monthly to see when Netflix tend to update new movies and TV shows."
   ]
  },
  {
   "cell_type": "code",
   "execution_count": 18,
   "id": "3971d606",
   "metadata": {
    "execution": {
     "iopub.execute_input": "2023-01-30T04:33:01.051467Z",
     "iopub.status.busy": "2023-01-30T04:33:01.051137Z",
     "iopub.status.idle": "2023-01-30T04:33:01.064634Z",
     "shell.execute_reply": "2023-01-30T04:33:01.063288Z"
    },
    "papermill": {
     "duration": 0.028479,
     "end_time": "2023-01-30T04:33:01.066885",
     "exception": false,
     "start_time": "2023-01-30T04:33:01.038406",
     "status": "completed"
    },
    "tags": []
   },
   "outputs": [
    {
     "data": {
      "text/html": [
       "<div>\n",
       "<style scoped>\n",
       "    .dataframe tbody tr th:only-of-type {\n",
       "        vertical-align: middle;\n",
       "    }\n",
       "\n",
       "    .dataframe tbody tr th {\n",
       "        vertical-align: top;\n",
       "    }\n",
       "\n",
       "    .dataframe thead th {\n",
       "        text-align: right;\n",
       "    }\n",
       "</style>\n",
       "<table border=\"1\" class=\"dataframe\">\n",
       "  <thead>\n",
       "    <tr style=\"text-align: right;\">\n",
       "      <th></th>\n",
       "      <th>title</th>\n",
       "    </tr>\n",
       "    <tr>\n",
       "      <th>month_added</th>\n",
       "      <th></th>\n",
       "    </tr>\n",
       "  </thead>\n",
       "  <tbody>\n",
       "    <tr>\n",
       "      <th>January</th>\n",
       "      <td>737</td>\n",
       "    </tr>\n",
       "    <tr>\n",
       "      <th>February</th>\n",
       "      <td>562</td>\n",
       "    </tr>\n",
       "    <tr>\n",
       "      <th>March</th>\n",
       "      <td>741</td>\n",
       "    </tr>\n",
       "    <tr>\n",
       "      <th>April</th>\n",
       "      <td>763</td>\n",
       "    </tr>\n",
       "    <tr>\n",
       "      <th>May</th>\n",
       "      <td>632</td>\n",
       "    </tr>\n",
       "    <tr>\n",
       "      <th>June</th>\n",
       "      <td>728</td>\n",
       "    </tr>\n",
       "    <tr>\n",
       "      <th>July</th>\n",
       "      <td>827</td>\n",
       "    </tr>\n",
       "    <tr>\n",
       "      <th>August</th>\n",
       "      <td>754</td>\n",
       "    </tr>\n",
       "    <tr>\n",
       "      <th>September</th>\n",
       "      <td>769</td>\n",
       "    </tr>\n",
       "    <tr>\n",
       "      <th>October</th>\n",
       "      <td>760</td>\n",
       "    </tr>\n",
       "    <tr>\n",
       "      <th>November</th>\n",
       "      <td>705</td>\n",
       "    </tr>\n",
       "    <tr>\n",
       "      <th>December</th>\n",
       "      <td>812</td>\n",
       "    </tr>\n",
       "  </tbody>\n",
       "</table>\n",
       "</div>"
      ],
      "text/plain": [
       "             title\n",
       "month_added       \n",
       "January        737\n",
       "February       562\n",
       "March          741\n",
       "April          763\n",
       "May            632\n",
       "June           728\n",
       "July           827\n",
       "August         754\n",
       "September      769\n",
       "October        760\n",
       "November       705\n",
       "December       812"
      ]
     },
     "metadata": {},
     "output_type": "display_data"
    }
   ],
   "source": [
    "# Number of titles categorized by month\n",
    "content_month_df = df.groupby('month_added')[['title']].count()\n",
    "\n",
    "display(content_month_df)"
   ]
  },
  {
   "cell_type": "code",
   "execution_count": 19,
   "id": "6c02225b",
   "metadata": {
    "execution": {
     "iopub.execute_input": "2023-01-30T04:33:01.092247Z",
     "iopub.status.busy": "2023-01-30T04:33:01.091878Z",
     "iopub.status.idle": "2023-01-30T04:33:01.318834Z",
     "shell.execute_reply": "2023-01-30T04:33:01.317917Z"
    },
    "papermill": {
     "duration": 0.241642,
     "end_time": "2023-01-30T04:33:01.320758",
     "exception": false,
     "start_time": "2023-01-30T04:33:01.079116",
     "status": "completed"
    },
    "tags": []
   },
   "outputs": [
    {
     "data": {
      "text/plain": [
       "Text(0.5, 0, '')"
      ]
     },
     "execution_count": 19,
     "metadata": {},
     "output_type": "execute_result"
    },
    {
     "data": {
      "image/png": "[encoded data removed]",
      "text/plain": [
       "<Figure size 1080x432 with 1 Axes>"
      ]
     },
     "metadata": {
      "needs_background": "light"
     },
     "output_type": "display_data"
    }
   ],
   "source": [
    "# Plot\n",
    "fig, ax = plt.subplots(1, 1, figsize=(15, 6))\n",
    "ax.bar(content_month_df.index, content_month_df.title, width=0.7, color='#b20710')\n",
    "\n",
    "for p in ax.patches:\n",
    "    ax.annotate(text=p.get_height(),\n",
    "                xy=(p.get_x() + p.get_width() / 2, p.get_height()),\n",
    "                xytext=(0, 8), textcoords='offset points',\n",
    "                ha='center', va='center', size=8)\n",
    "\n",
    "# Ticks and ticks label\n",
    "ax.tick_params(axis='both', which='major', bottom=False, left=False, labelsize=10)\n",
    "\n",
    "# Grid\n",
    "ax.grid(axis='y', linestyle='-', alpha=0.4) \n",
    "ax.set_axisbelow(True)\n",
    "\n",
    "# Frame border\n",
    "for s in ['top', 'right', 'left']:\n",
    "    ax.spines[s].set_visible(False)\n",
    "\n",
    "# Legend\n",
    "plt.legend().remove()\n",
    "\n",
    "# Title and axis title\n",
    "ax.set_title('Contents added by month', loc='left', y=1.15, size=20, fontweight='bold', fontfamily='sans serif')\n",
    "ax.text(0, 1.1, 'Source: Netflix Movies and TV Shows Dataset',  transform=ax.transAxes, ha='left', size=12, fontfamily='san serif')\n",
    "ax.set_xlabel(None)"
   ]
  },
  {
   "cell_type": "markdown",
   "id": "f637d335",
   "metadata": {
    "papermill": {
     "duration": 0.011856,
     "end_time": "2023-01-30T04:33:01.344934",
     "exception": false,
     "start_time": "2023-01-30T04:33:01.333078",
     "status": "completed"
    },
    "tags": []
   },
   "source": [
    "**Comment:** Many movie and TV show contents were added in July and December. Netflix must have been aware that users tend to have more free time to enjoy streaming during these periods :)"
   ]
  },
  {
   "cell_type": "markdown",
   "id": "c1879f40",
   "metadata": {
    "papermill": {
     "duration": 0.011862,
     "end_time": "2023-01-30T04:33:01.368960",
     "exception": false,
     "start_time": "2023-01-30T04:33:01.357098",
     "status": "completed"
    },
    "tags": []
   },
   "source": [
    "## Which demographics are considered as main audience?\n",
    "To answer this, we'll try digging into how the ratings are distrbiuted."
   ]
  },
  {
   "cell_type": "code",
   "execution_count": 20,
   "id": "975dd70e",
   "metadata": {
    "execution": {
     "iopub.execute_input": "2023-01-30T04:33:01.395111Z",
     "iopub.status.busy": "2023-01-30T04:33:01.394745Z",
     "iopub.status.idle": "2023-01-30T04:33:01.403974Z",
     "shell.execute_reply": "2023-01-30T04:33:01.403186Z"
    },
    "papermill": {
     "duration": 0.025007,
     "end_time": "2023-01-30T04:33:01.406094",
     "exception": false,
     "start_time": "2023-01-30T04:33:01.381087",
     "status": "completed"
    },
    "tags": []
   },
   "outputs": [],
   "source": [
    "# Number of ratings for each type of contents\n",
    "type_rating = df.groupby('type')['rating'].value_counts().fillna(0)\n",
    "\n",
    "# Subsets\n",
    "type_rating_mov = type_rating.loc['Movie']\n",
    "type_rating_tv = type_rating.loc['TV Show']"
   ]
  },
  {
   "cell_type": "code",
   "execution_count": 21,
   "id": "3f1c6b65",
   "metadata": {
    "execution": {
     "iopub.execute_input": "2023-01-30T04:33:01.432482Z",
     "iopub.status.busy": "2023-01-30T04:33:01.432111Z",
     "iopub.status.idle": "2023-01-30T04:33:01.761232Z",
     "shell.execute_reply": "2023-01-30T04:33:01.759702Z"
    },
    "papermill": {
     "duration": 0.345143,
     "end_time": "2023-01-30T04:33:01.763630",
     "exception": false,
     "start_time": "2023-01-30T04:33:01.418487",
     "status": "completed"
    },
    "tags": []
   },
   "outputs": [
    {
     "data": {
      "text/plain": [
       "Text(0.85, 0.9, 'TV Show')"
      ]
     },
     "execution_count": 21,
     "metadata": {},
     "output_type": "execute_result"
    },
    {
     "data": {
      "image/png": "[encoded data removed]",
      "text/plain": [
       "<Figure size 1080x576 with 2 Axes>"
      ]
     },
     "metadata": {
      "needs_background": "light"
     },
     "output_type": "display_data"
    }
   ],
   "source": [
    "# Plot\n",
    "fig, (ax1, ax2) = plt.subplots(2, sharex=True, figsize=(15, 8))\n",
    "\n",
    "type_rating_mov.plot(ax=ax1, kind='bar', color='#b20710')\n",
    "type_rating_tv.plot(ax=ax2, kind='bar', color='#221f1f')\n",
    "\n",
    "# Ticks and ticks label\n",
    "ax1.tick_params(axis='both', which='major', bottom=False, left=False, labelsize=10)\n",
    "ax2.tick_params(axis='both', which='major', bottom=False, left=False, labelsize=10)\n",
    "plt.xticks(rotation=0)\n",
    "\n",
    "# Grid\n",
    "ax1.grid(axis='y', linestyle='-', alpha=0.4) \n",
    "ax1.set_axisbelow(True)\n",
    "ax2.grid(axis='y', linestyle='-', alpha=0.4) \n",
    "ax2.set_axisbelow(True)\n",
    "\n",
    "# Frame border\n",
    "for s in ['top', 'right', 'left']:\n",
    "    ax1.spines[s].set_visible(False)\n",
    "    ax2.spines[s].set_visible(False)\n",
    "\n",
    "# Legend\n",
    "plt.legend().remove()\n",
    "\n",
    "# Title and axis title\n",
    "ax1.set_title('Ratings distribution', loc='left', y=1.15, size=20, fontweight='bold', fontfamily='sans serif')\n",
    "ax1.text(-0.075, 1.28, 'Source: Netflix Movies and TV Shows Dataset',  transform=ax.transAxes, ha='left', size=12, fontfamily='san serif')\n",
    "ax2.set_xlabel(None)\n",
    "\n",
    "# Annotation\n",
    "fig.text(0.8,0.9,'Movie', fontweight='bold', fontsize=12, color='#b20710')\n",
    "fig.text(0.841,0.9,'|', fontweight='bold', fontsize=12, color='black')\n",
    "fig.text(0.85,0.9,'TV Show', fontweight='bold', fontsize=12, color='#221f1f')"
   ]
  },
  {
   "cell_type": "markdown",
   "id": "b99ddc75",
   "metadata": {
    "papermill": {
     "duration": 0.012162,
     "end_time": "2023-01-30T04:33:01.788545",
     "exception": false,
     "start_time": "2023-01-30T04:33:01.776383",
     "status": "completed"
    },
    "tags": []
   },
   "source": [
    "**Comment:** The majority of contents seems to aim at adult and teen viewers."
   ]
  },
  {
   "cell_type": "markdown",
   "id": "a3a18a59",
   "metadata": {
    "papermill": {
     "duration": 0.012285,
     "end_time": "2023-01-30T04:33:01.813246",
     "exception": false,
     "start_time": "2023-01-30T04:33:01.800961",
     "status": "completed"
    },
    "tags": []
   },
   "source": [
    "## How about within the top 10 countries?"
   ]
  },
  {
   "cell_type": "code",
   "execution_count": 22,
   "id": "2c904d45",
   "metadata": {
    "execution": {
     "iopub.execute_input": "2023-01-30T04:33:01.839439Z",
     "iopub.status.busy": "2023-01-30T04:33:01.839070Z",
     "iopub.status.idle": "2023-01-30T04:33:01.856902Z",
     "shell.execute_reply": "2023-01-30T04:33:01.855948Z"
    },
    "papermill": {
     "duration": 0.033154,
     "end_time": "2023-01-30T04:33:01.858718",
     "exception": false,
     "start_time": "2023-01-30T04:33:01.825564",
     "status": "completed"
    },
    "tags": []
   },
   "outputs": [
    {
     "data": {
      "text/html": [
       "<div>\n",
       "<style scoped>\n",
       "    .dataframe tbody tr th:only-of-type {\n",
       "        vertical-align: middle;\n",
       "    }\n",
       "\n",
       "    .dataframe tbody tr th {\n",
       "        vertical-align: top;\n",
       "    }\n",
       "\n",
       "    .dataframe thead th {\n",
       "        text-align: right;\n",
       "    }\n",
       "</style>\n",
       "<table border=\"1\" class=\"dataframe\">\n",
       "  <thead>\n",
       "    <tr style=\"text-align: right;\">\n",
       "      <th>rating_age</th>\n",
       "      <th>Adults</th>\n",
       "      <th>Teens</th>\n",
       "      <th>Older Kids</th>\n",
       "      <th>Kids</th>\n",
       "    </tr>\n",
       "    <tr>\n",
       "      <th>first_country</th>\n",
       "      <th></th>\n",
       "      <th></th>\n",
       "      <th></th>\n",
       "      <th></th>\n",
       "    </tr>\n",
       "  </thead>\n",
       "  <tbody>\n",
       "    <tr>\n",
       "      <th>Australia</th>\n",
       "      <td>53</td>\n",
       "      <td>18</td>\n",
       "      <td>27</td>\n",
       "      <td>17</td>\n",
       "    </tr>\n",
       "    <tr>\n",
       "      <th>Canada</th>\n",
       "      <td>129</td>\n",
       "      <td>45</td>\n",
       "      <td>58</td>\n",
       "      <td>39</td>\n",
       "    </tr>\n",
       "    <tr>\n",
       "      <th>France</th>\n",
       "      <td>132</td>\n",
       "      <td>40</td>\n",
       "      <td>22</td>\n",
       "      <td>18</td>\n",
       "    </tr>\n",
       "    <tr>\n",
       "      <th>India</th>\n",
       "      <td>266</td>\n",
       "      <td>568</td>\n",
       "      <td>160</td>\n",
       "      <td>14</td>\n",
       "    </tr>\n",
       "    <tr>\n",
       "      <th>Japan</th>\n",
       "      <td>91</td>\n",
       "      <td>97</td>\n",
       "      <td>66</td>\n",
       "      <td>3</td>\n",
       "    </tr>\n",
       "    <tr>\n",
       "      <th>Mexico</th>\n",
       "      <td>103</td>\n",
       "      <td>16</td>\n",
       "      <td>13</td>\n",
       "      <td>2</td>\n",
       "    </tr>\n",
       "    <tr>\n",
       "      <th>South Korea</th>\n",
       "      <td>93</td>\n",
       "      <td>84</td>\n",
       "      <td>25</td>\n",
       "      <td>9</td>\n",
       "    </tr>\n",
       "    <tr>\n",
       "      <th>Spain</th>\n",
       "      <td>148</td>\n",
       "      <td>19</td>\n",
       "      <td>8</td>\n",
       "      <td>6</td>\n",
       "    </tr>\n",
       "    <tr>\n",
       "      <th>United Kingdom</th>\n",
       "      <td>328</td>\n",
       "      <td>137</td>\n",
       "      <td>111</td>\n",
       "      <td>51</td>\n",
       "    </tr>\n",
       "    <tr>\n",
       "      <th>United States</th>\n",
       "      <td>1845</td>\n",
       "      <td>1037</td>\n",
       "      <td>809</td>\n",
       "      <td>340</td>\n",
       "    </tr>\n",
       "  </tbody>\n",
       "</table>\n",
       "</div>"
      ],
      "text/plain": [
       "rating_age      Adults  Teens  Older Kids  Kids\n",
       "first_country                                  \n",
       "Australia           53     18          27    17\n",
       "Canada             129     45          58    39\n",
       "France             132     40          22    18\n",
       "India              266    568         160    14\n",
       "Japan               91     97          66     3\n",
       "Mexico             103     16          13     2\n",
       "South Korea         93     84          25     9\n",
       "Spain              148     19           8     6\n",
       "United Kingdom     328    137         111    51\n",
       "United States     1845   1037         809   340"
      ]
     },
     "metadata": {},
     "output_type": "display_data"
    }
   ],
   "source": [
    "# Number of contents categorized by rating age in each country\n",
    "country_rating = df[df['first_country'].isin(top10)].groupby('first_country')['rating_age'].value_counts().unstack()\n",
    "\n",
    "# Reorder column index for better visualization\n",
    "cols_order = ['Adults', 'Teens', 'Older Kids', 'Kids']\n",
    "country_rating = country_rating.reindex(columns=cols_order)\n",
    "\n",
    "display(country_rating)"
   ]
  },
  {
   "cell_type": "code",
   "execution_count": 23,
   "id": "3c575fe8",
   "metadata": {
    "execution": {
     "iopub.execute_input": "2023-01-30T04:33:01.886079Z",
     "iopub.status.busy": "2023-01-30T04:33:01.885739Z",
     "iopub.status.idle": "2023-01-30T04:33:02.126021Z",
     "shell.execute_reply": "2023-01-30T04:33:02.124738Z"
    },
    "papermill": {
     "duration": 0.256627,
     "end_time": "2023-01-30T04:33:02.128480",
     "exception": false,
     "start_time": "2023-01-30T04:33:01.871853",
     "status": "completed"
    },
    "tags": []
   },
   "outputs": [
    {
     "data": {
      "text/plain": [
       "Text(114.0, 0.5, '')"
      ]
     },
     "execution_count": 23,
     "metadata": {},
     "output_type": "execute_result"
    },
    {
     "data": {
      "image/png": "[encoded data removed]",
      "text/plain": [
       "<Figure size 1080x432 with 2 Axes>"
      ]
     },
     "metadata": {
      "needs_background": "light"
     },
     "output_type": "display_data"
    }
   ],
   "source": [
    "# Plot\n",
    "import matplotlib.colors\n",
    "palette = matplotlib.colors.LinearSegmentedColormap.from_list(\"\", ['#f5f5f1', '#b20710','#221f1f'])\n",
    "\n",
    "fig, ax = plt.subplots(1, 1, figsize=(15, 6))\n",
    "sns.heatmap(country_rating, cmap=palette, linewidth=1.5)\n",
    "\n",
    "# Ticks and ticks label\n",
    "ax.tick_params(axis='both', which='major', bottom=False, left=False, labelsize=10)\n",
    "\n",
    "# Title and axis title\n",
    "ax.set_title('Contents by rating age of the top 10 countries', loc='left', y=1.15, size=20, fontweight='bold', fontfamily='sans serif')\n",
    "ax.text(0, 1.1, 'Source: Netflix Movies and TV Shows Dataset',  transform=ax.transAxes, ha='left', size=12, fontfamily='san serif')\n",
    "ax.set_xlabel(None)\n",
    "ax.set_ylabel(None)"
   ]
  },
  {
   "cell_type": "markdown",
   "id": "50d56473",
   "metadata": {
    "papermill": {
     "duration": 0.012857,
     "end_time": "2023-01-30T04:33:02.156138",
     "exception": false,
     "start_time": "2023-01-30T04:33:02.143281",
     "status": "completed"
    },
    "tags": []
   },
   "source": [
    "**Comment:** Among the top 3 countries, the United States and the United Kingdom seem to focus more on adult age group, while India mainly aims at teens, which is shown by the darkest-colored cells of these countries. However, Netflix US also provides many contents for teen group as well."
   ]
  },
  {
   "cell_type": "markdown",
   "id": "568cec5d",
   "metadata": {
    "papermill": {
     "duration": 0.012733,
     "end_time": "2023-01-30T04:33:02.181867",
     "exception": false,
     "start_time": "2023-01-30T04:33:02.169134",
     "status": "completed"
    },
    "tags": []
   },
   "source": [
    "<a id='top'></a>\n",
    "<div class=\"list-group\" id=\"list-tab\" role=\"tablist\"></div>\n",
    "\n",
    "<h2 style=\"text-align: left; background-color:#b20710; font-family: Arial Black; color: #f5f5f1; padding: 13px; line-height:0.9;border-radius:2px; margin-bottom: 0em; text-align: center; font-size: 25px; border-radius: 100px 100px;\">APPENDIX</h2>"
   ]
  },
  {
   "cell_type": "markdown",
   "id": "272351b0",
   "metadata": {
    "papermill": {
     "duration": 0.012603,
     "end_time": "2023-01-30T04:33:02.207683",
     "exception": false,
     "start_time": "2023-01-30T04:33:02.195080",
     "status": "completed"
    },
    "tags": []
   },
   "source": [
    "Thank you for looking through my notebook! I'd also like to thank Mr. Josh's amazing [notebook](https://www.kaggle.com/code/joshuaswords/netflix-data-visualization) references allowing me to practice data visualization!\n",
    "\n",
    "Some helpful links:\n",
    "- https://www.kaggle.com/getting-started/302454 (<code>mode[0]</code> explanation)\n",
    "- https://www.geeksforgeeks.org/enumerate-in-python/ (<code>enumerate</code> explanation)"
   ]
  }
 ],
 "metadata": {
  "kernelspec": {
   "display_name": "Python 3",
   "language": "python",
   "name": "python3"
  },
  "language_info": {
   "codemirror_mode": {
    "name": "ipython",
    "version": 3
   },
   "file_extension": ".py",
   "mimetype": "text/x-python",
   "name": "python",
   "nbconvert_exporter": "python",
   "pygments_lexer": "ipython3",
   "version": "3.7.12"
  },
  "papermill": {
   "default_parameters": {},
   "duration": 11.834995,
   "end_time": "2023-01-30T04:33:02.841390",
   "environment_variables": {},
   "exception": null,
   "input_path": "__notebook__.ipynb",
   "output_path": "__notebook__.ipynb",
   "parameters": {},
   "start_time": "2023-01-30T04:32:51.006395",
   "version": "2.3.4"
  }
 },
 "nbformat": 4,
 "nbformat_minor": 5
}
